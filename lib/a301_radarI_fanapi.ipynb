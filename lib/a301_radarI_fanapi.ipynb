{
 "metadata": {
  "name": "",
  "signature": "sha256:a296d9130320aff60d04532000bbc8224820a10ae79306460121828e0a91b9e4"
 },
 "nbformat": 3,
 "nbformat_minor": 0,
 "worksheets": [
  {
   "cells": [
    {
     "cell_type": "markdown",
     "metadata": {},
     "source": [
      "#Objectives\n",
      "* The objectives of this notebook is to provide examples about working with CloudSat L2 and AUX files, including:\n",
      "    * Background information of CloudSat Project, its functionality and mission;\n",
      "    * How to access to the CloudSat datasets via <a href='http://www.cloudsat.cira.colostate.edu/index.php'>CloudSat Data Processing Center</a>;\n",
      "    * How to use a custom Python module e.g. `CloudSat_tools`;\n",
      "* The files required for this notebook are at http://clouds.eos.ubc.ca/~phil/Downloads/a301/radar : \n",
      "       \n",
      "        2006303212128_02702_CS_2B-GEOPROF_GRANULE_P_R04_E02.h5\n",
      "        2006303212128_02702_CS_2B-GEOPROF-LIDAR_GRANULE_P2_R04_E02.h5\n",
      "        2006303212128_02702_CS_2C-RAIN-PROFILE_GRANULE_P_R04_E02.h5\n",
      "        2006303212128_02702_CS_ECMWF-AUX_GRANULE_P_R04_E02.h5\n",
      "\n",
      "* Files above are **CloudSat L2** and **AUX** products, **Granule 02702**, observed on **Oct 30 2006**.  They are\n",
      "  archived and downloaded in hdf format and converted to hdf5 files using http://www.hdfgroup.org/h4toh5/download.html \n"
     ]
    },
    {
     "cell_type": "heading",
     "level": 1,
     "metadata": {},
     "source": [
      "About CloudSat Project"
     ]
    },
    {
     "cell_type": "markdown",
     "metadata": {},
     "source": [
      "You have already ready the [Bulletin of the AMS article](http://cloudsat.atmos.colostate.edu/BAMS_CloudSat_CR.pdf) article\n",
      "on cloudsat.  Make sure you have looked at the dataset descriptions in Table 3, p. 1784 to get an idea of how the\n",
      "datasets are organized into individual files.   For some more general background:\n",
      "\n",
      "<a href='http://en.wikipedia.org/wiki/CloudSat'>**Wikipedia *CloudSat* Page**</a>\n",
      ">CloudSat is a NASA Earth observation satellite, which was launched on a Delta II rocket on April 28, 2006. ***It uses radar to measure the altitude and properties of clouds***, adding to information on the relationship between clouds and climate in order to help resolve questions about global warming.\n",
      "\n",
      ">CloudSat flies in formation in the \"A Train\", with several other satellites: Aqua, Aura, CALIPSO and the French PARASOL.\n",
      "\n",
      ">The mission was selected under NASA's Earth System Science Pathfinder program in 1999. Ball Aerospace & Technologies Corp. in Boulder, Colorado, designed and built the spacecraft.\n",
      "\n",
      ">CloudSat's primary mission was scheduled to continue for 22 months in order to allow more than one seasonal cycle to be observed.\n",
      "\n",
      "**<a href='http://cloudsat.atmos.colostate.edu/'>*CloudSat Project* Page</a> at Dept. of Atmospheric Science, Colorado State U.**\n",
      "\n",
      ">CloudSat was selected as a NASA Earth System Science Pathfinder satellite mission in 1999 ***to provide observations necessary to advance our understanding of cloud abundance, distribution, structure, and radiative properties.*** Since 2006, CloudSat has flown the first satellite-based millimeter-wavelength cloud radar\u2014a radar that is more than 1000 times more sensitive than existing weather radars. Unlike ground-based weather radars that use centimeter wavelengths to detect raindrop-sized particles, CloudSat's radar allows us to detect the much smaller particles of liquid water and ice that constitute the large cloud masses that make our weather.\n",
      "\n",
      ">CloudSat was co-manifested with the CALIPSO (Cloud-Aerosol Lidar and Infrared Pathfinder Satellite Observations) satellite aboard a Delta II rocket for its launch on 28 April 2006. ***In a series of maneuvers, CloudSat and CALIPSO joined three satellites already in orbit ( Aqua, PARASOL, and Aura) to form a constellation of satellites known as the A-Train on 1 June 2006.*** The satellites fly in a nearly circular orbit with an equatorial altitude of approximately 705 km. The orbit is sun-synchronous, maintaining a roughly fixed angle between the orbital plane and the mean solar meridian. CloudSat maintains a close formation with Aqua and a particularly close formation with CALIPSO, providing near-simultaneous and collocated observations with the instruments on these two platforms. Combined data products are in development using data streams from CloudSat + Aqua and CloudSat + CALIPSO.\n",
      "\n"
     ]
    },
    {
     "cell_type": "markdown",
     "metadata": {},
     "source": [
      "## Getting the required datsets (when you start your own project)"
     ]
    },
    {
     "cell_type": "heading",
     "level": 3,
     "metadata": {},
     "source": [
      "Step1 - Check data Availability"
     ]
    },
    {
     "cell_type": "markdown",
     "metadata": {},
     "source": [
      "Register in the <a href='http://www.cloudsat.cira.colostate.edu/index.php'>**CloudSat Data Processing Center**</a> and look at the data product information."
     ]
    },
    {
     "cell_type": "markdown",
     "metadata": {},
     "source": [
      "Here is a list of CloudSat data product with descriptions:\n",
      "\n",
      "<table align=\"left\">\n",
      "<tr>\n",
      "<th>Standard Data Product</th>\n",
      "<th>Description</th>\n",
      "</tr>\n",
      "<tr>\n",
      "<td>1B-CPR</td>\n",
      "<td>L1B Radar Backscatter Profiles. Including received echo power</td>\n",
      "</tr>\n",
      "<tr>\n",
      "<td>2B-GEOPROF</td>\n",
      "<td>L2B Cloud Geometrical Profile. Including cloud mask, radar reflectivities</td>\n",
      "</tr>\n",
      "<tr>\n",
      "<td>2B-CLDCLASS</td>\n",
      "<td>L2B Cloud Classification</td>\n",
      "</tr>\n",
      "<tr>\n",
      "<td>2B-CWC-RO</td>\n",
      "<td>L2B Radar-only Liquid/Ice Water Content</td>\n",
      "</tr>\n",
      "<tr>\n",
      "<td>2B-TAU</td>\n",
      "<td>L2B Cloud Optical Depth</td>\n",
      "</tr>\n",
      "</tr>\n",
      "<tr>\n",
      "<td>2B-CWC-RVOD</td>\n",
      "<td>L2B Radar Liquid/Ice Water Content plus Visible Optical Depth</td>\n",
      "</tr>\n",
      "</tr>\n",
      "<tr>\n",
      "<td>2B-FLXHR</td>\n",
      "<td>L2B Radiative fluxes and heating rates</td>\n",
      "</tr>\n",
      "</tr>\n",
      "<tr>\n",
      "<td>2B-GEOPROF-LIDAR</td>\n",
      "<td>L2B CloudSat CPR plus CALIPSO Lidar Cloud mask</td>\n",
      "</tr>\n",
      "<tr>\n",
      "<td>2B-CLDCLASS-LIDAR</td>\n",
      "<td>L2B Cloud Clasification from CPR and CALIPO Lidar</td>_\n",
      "</tr>\n",
      "<tr>\n",
      "<td>2C-RAIN-PROFILE</td>\n",
      "<td>L2C Cloud Rain Rate and Liquid/Ice Water Content</td>\n",
      "</tr>\n",
      "<tr>\n",
      "<td>2C-PRECIP-COLUMN</td>\n",
      "<td>L2C Column Integrated Precipitation</td>\n",
      "</tr>\n",
      "<tr>\n",
      "<td>2C-CLOUDSAT-TRMM</td>\n",
      "<td>L2C CloudSat Cloud Mask plus L2 TRMM at Orbit Intersections</td>\n",
      "</tr>\n",
      "<tr>\n",
      "<th>Auxiliary Products</th>\n",
      "<th>Description</th>\n",
      "</tr>\n",
      "<tr>\n",
      "<td>ECMWF-AUX</td>\n",
      "<td>ECMWF Auxiliary Data (State Variables)</td>\n",
      "</tr>\n",
      "<tr>\n",
      "<td>MODIS-AUX</td>\n",
      "<td>MODIS Auxiliary Data (Data from 22 MODIS Channels)</td>\n",
      "</tr>\n",
      "</table>"
     ]
    },
    {
     "cell_type": "markdown",
     "metadata": {},
     "source": [
      "Here we only use Standard L2 datasets **2B-GEOPROF**, **2B-GEOPROF-LIDAR**, **2C-RAIN-PROFILE** and Auxiliary Product **ECMWF-AUX**."
     ]
    },
    {
     "cell_type": "heading",
     "level": 3,
     "metadata": {},
     "source": [
      "Step2 - Choose the date, time and Granule"
     ]
    },
    {
     "cell_type": "markdown",
     "metadata": {},
     "source": [
      "Enter in the CloudSat <a href='http://www.cloudsat.cira.colostate.edu/dpcstatusQL.php'>**Quicklook Image Archive**</a>, select the date, time and check the orbit track in Granule number, see if the image agrees with your idea or not.\n",
      "\n",
      "After a careful look, we choose 10/30/2006, Granule 02702."
     ]
    },
    {
     "cell_type": "heading",
     "level": 3,
     "metadata": {},
     "source": [
      "Step3 - Order Datasets"
     ]
    },
    {
     "cell_type": "markdown",
     "metadata": {},
     "source": [
      "Once you have made your choice, you can go to <a href='http://www.cloudsat.cira.colostate.edu/data_dist/OrderData.php'>**Data Order System**</a>. Do the following steps: \n",
      "\n",
      "* Click \"Browse\", select the  the date, time, Granule Number and products.\n",
      "* Select the products you need, click \"Add to Cart\".\n",
      "* Move to \"Cart ${you ordered file size}\" and click \"Place Order\"."
     ]
    },
    {
     "cell_type": "heading",
     "level": 3,
     "metadata": {},
     "source": [
      "Step4 - Download & convert"
     ]
    },
    {
     "cell_type": "heading",
     "level": 1,
     "metadata": {},
     "source": [
      "Import modules and tools"
     ]
    },
    {
     "cell_type": "markdown",
     "metadata": {},
     "source": [
      "We need two new modules to parse the Cloudsat data files. [cloudsat_tool.py](https://github.com/a301-teaching/classcode/blob/master/lib/cloudsat/cloudsat_tool.py) is a module that contains read functions for the various cloudsat fields.\n",
      "[orbit_tool.py](https://github.com/a301-teaching/classcode/blob/master/lib/cloudsat/orbit_tool.py) contains functions\n",
      "to plot a Cloudsat orbit on a global map.  The routines are in lib/cloudsat, so add this to our path:"
     ]
    },
    {
     "cell_type": "code",
     "collapsed": false,
     "input": [
      "import site\n",
      "site.addsitedir('../lib/cloudsat')"
     ],
     "language": "python",
     "metadata": {},
     "outputs": [],
     "prompt_number": 2
    },
    {
     "cell_type": "code",
     "collapsed": false,
     "input": [
      "from __future__ import division\n",
      "from __future__ import print_function\n",
      "import glob\n",
      "import h5py\n",
      "import scipy.io\n",
      "import numpy as np\n",
      "#\n",
      "from matplotlib import pyplot as plt\n",
      "import orbit_tool as OT\n",
      "import cloudsat_tool as CT\n",
      "OT=reload(OT)\n",
      "CT=reload(CT)\n",
      "#"
     ],
     "language": "python",
     "metadata": {},
     "outputs": [
      {
       "ename": "ImportError",
       "evalue": "cannot import name _errors",
       "output_type": "pyerr",
       "traceback": [
        "\u001b[1;31m---------------------------------------------------------------------------\u001b[0m\n\u001b[1;31mImportError\u001b[0m                               Traceback (most recent call last)",
        "\u001b[1;32m<ipython-input-3-810c63d84a6a>\u001b[0m in \u001b[0;36m<module>\u001b[1;34m()\u001b[0m\n\u001b[0;32m      2\u001b[0m \u001b[1;32mfrom\u001b[0m \u001b[0m__future__\u001b[0m \u001b[1;32mimport\u001b[0m \u001b[0mprint_function\u001b[0m\u001b[1;33m\u001b[0m\u001b[0m\n\u001b[0;32m      3\u001b[0m \u001b[1;32mimport\u001b[0m \u001b[0mglob\u001b[0m\u001b[1;33m\u001b[0m\u001b[0m\n\u001b[1;32m----> 4\u001b[1;33m \u001b[1;32mimport\u001b[0m \u001b[0mh5py\u001b[0m\u001b[1;33m\u001b[0m\u001b[0m\n\u001b[0m\u001b[0;32m      5\u001b[0m \u001b[1;32mimport\u001b[0m \u001b[0mscipy\u001b[0m\u001b[1;33m.\u001b[0m\u001b[0mio\u001b[0m\u001b[1;33m\u001b[0m\u001b[0m\n\u001b[0;32m      6\u001b[0m \u001b[1;32mimport\u001b[0m \u001b[0mnumpy\u001b[0m \u001b[1;32mas\u001b[0m \u001b[0mnp\u001b[0m\u001b[1;33m\u001b[0m\u001b[0m\n",
        "\u001b[1;32mC:\\Users\\Sara\\Anaconda\\lib\\site-packages\\h5py\\__init__.py\u001b[0m in \u001b[0;36m<module>\u001b[1;34m()\u001b[0m\n\u001b[0;32m      8\u001b[0m \u001b[1;31m#           and contributor agreement.\u001b[0m\u001b[1;33m\u001b[0m\u001b[1;33m\u001b[0m\u001b[0m\n\u001b[0;32m      9\u001b[0m \u001b[1;33m\u001b[0m\u001b[0m\n\u001b[1;32m---> 10\u001b[1;33m \u001b[1;32mfrom\u001b[0m \u001b[0mh5py\u001b[0m \u001b[1;32mimport\u001b[0m \u001b[0m_errors\u001b[0m\u001b[1;33m\u001b[0m\u001b[0m\n\u001b[0m\u001b[0;32m     11\u001b[0m \u001b[0m_errors\u001b[0m\u001b[1;33m.\u001b[0m\u001b[0msilence_errors\u001b[0m\u001b[1;33m(\u001b[0m\u001b[1;33m)\u001b[0m\u001b[1;33m\u001b[0m\u001b[0m\n\u001b[0;32m     12\u001b[0m \u001b[1;33m\u001b[0m\u001b[0m\n",
        "\u001b[1;31mImportError\u001b[0m: cannot import name _errors"
       ]
      }
     ],
     "prompt_number": 3
    },
    {
     "cell_type": "code",
     "collapsed": false,
     "input": [
      "% matplotlib inline"
     ],
     "language": "python",
     "metadata": {},
     "outputs": []
    },
    {
     "cell_type": "heading",
     "level": 1,
     "metadata": {},
     "source": [
      "Read CloudSat data through `CloudSat_tools`"
     ]
    },
    {
     "cell_type": "markdown",
     "metadata": {},
     "source": [
      "Searching required \\*.h5 files in `_data/CloudSat_L2/` directory, Make sure that you have the converted HDF5 files exist in it."
     ]
    },
    {
     "cell_type": "code",
     "collapsed": false,
     "input": [
      "hdf5_radar=glob.glob('../data/*CS_2B-GEOPROF_GRANULE*.h5')\n",
      "print(\"2B-GEOPROF file found\\n{}\".format(hdf5_radar))\n",
      "print(\"==================================================================\")\n",
      "hdf5_lidar=glob.glob('../data/*2B-GEOPROF-LIDAR*.h5')\n",
      "print(\"2B-GEOPROF-LIDAR file found\\n{}\".format(hdf5_lidar))\n",
      "print(\"==================================================================\")\n",
      "hdf5_rain=glob.glob('../data/*2C-RAIN-PROFILE*.h5')\n",
      "print(\"2C-RAIN-PROFILE file found\\n{}\".format(hdf5_rain))\n",
      "print(\"==================================================================\")\n",
      "hdf5_EC=glob.glob('../data/*ECMWF-AUX*.h5')\n",
      "print(\"ECMWF-AUX file found\\n{}\".format(hdf5_EC))"
     ],
     "language": "python",
     "metadata": {},
     "outputs": []
    },
    {
     "cell_type": "heading",
     "level": 2,
     "metadata": {},
     "source": [
      "Read geo-location, height and time"
     ]
    },
    {
     "cell_type": "code",
     "collapsed": false,
     "input": [
      "help(CT.get_geo)\n",
      "lat, lon, date_day, prof_sec, dem_elev = CT.get_geo(hdf5_radar[0], 1)"
     ],
     "language": "python",
     "metadata": {},
     "outputs": []
    },
    {
     "cell_type": "heading",
     "level": 2,
     "metadata": {},
     "source": [
      "Read physical records (reflectivity, cloud top height, etc.)"
     ]
    },
    {
     "cell_type": "code",
     "collapsed": false,
     "input": [
      "help(CT.read_ecmwf)"
     ],
     "language": "python",
     "metadata": {},
     "outputs": []
    },
    {
     "cell_type": "code",
     "collapsed": false,
     "input": [
      "height, reflect = CT.read_radar(hdf5_radar[0], maskid=2)\n",
      "CFrac, LayerTop, LayerBase = CT.read_lidar(hdf5_lidar[0], maskid=2)\n",
      "rain, precli, precice, clw = CT.read_rain(hdf5_rain[0], maskid=2)\n",
      "P, SLP, T, T2m, SKT, q, O3 = CT.read_ecmwf(hdf5_EC[0], maskid=2)"
     ],
     "language": "python",
     "metadata": {},
     "outputs": []
    },
    {
     "cell_type": "heading",
     "level": 2,
     "metadata": {},
     "source": [
      "View the orbit track"
     ]
    },
    {
     "cell_type": "code",
     "collapsed": false,
     "input": [
      "#help(dOrbit.draw_orbit)\n",
      "lonlim=[-330, 120]; latlim=[-90, 90]\n",
      "OT.draw_orbit(hdf5_radar[0], lonlim, latlim, 625, 2, 1)"
     ],
     "language": "python",
     "metadata": {},
     "outputs": []
    },
    {
     "cell_type": "heading",
     "level": 2,
     "metadata": {},
     "source": [
      "Segment the orbit track"
     ]
    },
    {
     "cell_type": "markdown",
     "metadata": {},
     "source": [
      "We can restrict that part of the orbit we want to look at using a function in the orbit_tools module called\n",
      "**segment_orbit** which uses the numpy searchsorted function to select a subset of the orbit\n",
      "\n",
      "Suppose we want to find only those data points with nadir latitudes in the range:\n",
      "\n",
      "$35^\\circ N < Latitude < 52^\\circ N$\n",
      "\n"
     ]
    },
    {
     "cell_type": "code",
     "collapsed": false,
     "input": [
      "xlim_indices = OT.segment_orbit(lat, [35, 52])"
     ],
     "language": "python",
     "metadata": {},
     "outputs": []
    },
    {
     "cell_type": "markdown",
     "metadata": {},
     "source": [
      "### now get the corresponding data values from other variables using xlim_indices"
     ]
    },
    {
     "cell_type": "code",
     "collapsed": false,
     "input": [
      "time_seg=date_day[xlim_indices[0]:xlim_indices[1]]\n",
      "elev_seg=dem_elev[xlim_indices[0]:xlim_indices[1]]\n",
      "lat_seg=lat[xlim_indices[0]:xlim_indices[1]]\n",
      "lon_seg=lon[xlim_indices[0]:xlim_indices[1]];lon_seg=lon_seg[::-1]\n",
      "height_seg=height[xlim_indices[0]:xlim_indices[1], :]\n",
      "# reflectivity\n",
      "reflect_seg=reflect[xlim_indices[0]:xlim_indices[1], :]\n",
      "# cloud top height\n",
      "LayerTop_seg=LayerTop[xlim_indices[0]:xlim_indices[1], :]\n",
      "# rain rate\n",
      "rain_seg=rain[xlim_indices[0]:xlim_indices[1]]\n",
      "# cloud liquid water\n",
      "clw_seg=clw[xlim_indices[0]:xlim_indices[1], :]\n",
      "# pressure, temperature, humidity\n",
      "P_seg=P[xlim_indices[0]:xlim_indices[1], :]\n",
      "T_seg=T[xlim_indices[0]:xlim_indices[1], :]\n",
      "q_seg=q[xlim_indices[0]:xlim_indices[1], :]"
     ],
     "language": "python",
     "metadata": {},
     "outputs": []
    },
    {
     "cell_type": "heading",
     "level": 1,
     "metadata": {},
     "source": [
      "Plot the result"
     ]
    },
    {
     "cell_type": "markdown",
     "metadata": {},
     "source": [
      "Here is a series of figures of variables in CloudSat products.\n",
      "\n",
      "Currently, `draw_CloudSat_1Dvar` and `draw_CloudSat_2Dvar` in `orbit_tool` provide a basic visualization of ClouSat variables.\n",
      "\n",
      "I made them work through following input sequence:\n",
      "```python\n",
      "OT.draw_CloudSat_1Dvar(lon, lat, time, 1Dvar, 'var_name ( unit )', 'title_name', 'figures/03_fig_name.png')\n",
      "OT.draw_CloudSat_2Dvar(lon, lat, height, elev, time, 2Dvar,  colormap, \\\n",
      "                       'var_name ( unit )', 'title_name', '_figures/03_fig_name.png')\n",
      "```"
     ]
    },
    {
     "cell_type": "markdown",
     "metadata": {},
     "source": [
      "For 2-D variables, we need to expand the dimension of geolocation field to 2-D, here we use longitude:"
     ]
    },
    {
     "cell_type": "code",
     "collapsed": false,
     "input": [
      "height_mesh, lon_seg_mesh=np.meshgrid(height_seg[0, :], lon_seg)"
     ],
     "language": "python",
     "metadata": {},
     "outputs": []
    },
    {
     "cell_type": "heading",
     "level": 2,
     "metadata": {},
     "source": [
      "Rain Rate"
     ]
    },
    {
     "cell_type": "code",
     "collapsed": false,
     "input": [
      "granule_id=hdf5_radar[0][-40:-35]\n",
      "orbit_start=time_seg[0].strftime('%Y%M%d')\n",
      "title=\"\"\"CloudSat CloudSat Rain Rate starting at {} \n",
      "         for Granule Number: {}\n",
      "      \"\"\".format(orbit_start,granule_id)\n",
      "\n",
      "OT.draw_CloudSat_1Dvar(lon_seg, lat_seg, time_seg, rain_seg, \n",
      "'CloudSat Rain Rate ( mm/hr )', title, 'figures/03_CloudSat_rain.png')"
     ],
     "language": "python",
     "metadata": {},
     "outputs": []
    },
    {
     "cell_type": "heading",
     "level": 2,
     "metadata": {},
     "source": [
      "Lidar Cloud Top Height"
     ]
    },
    {
     "cell_type": "code",
     "collapsed": false,
     "input": [
      "title=\"\"\"CloudSat Lidar Cloud Top Height starting at {} \n",
      "         for Granule Number: {}\n",
      "      \"\"\".format(orbit_start,granule_id)\n",
      "OT.draw_CloudSat_1Dvar(lon_seg, lat_seg, time_seg, LayerTop_seg[:, 0], 'Lidar Cloud Top Height( km )', \\\n",
      "        title, 'figures/03_CloudLayerTop.png')"
     ],
     "language": "python",
     "metadata": {},
     "outputs": []
    },
    {
     "cell_type": "heading",
     "level": 2,
     "metadata": {},
     "source": [
      "Radar Reflectivity"
     ]
    },
    {
     "cell_type": "code",
     "collapsed": false,
     "input": [
      "title=\"\"\"CloudSat Radar reflectivity starting at {} \n",
      "         for Granule Number: {}\n",
      "      \"\"\".format(orbit_start,granule_id)\n",
      "\n",
      "OT.draw_CloudSat_2Dvar(lon_seg_mesh, lat_seg, height_seg, elev_seg, time_seg, reflect_seg,  plt.cm.jet,\\\n",
      "                 'Radar Reflectivity ( dbZ )', title, 'figures/03_RadarRef.png')"
     ],
     "language": "python",
     "metadata": {},
     "outputs": []
    },
    {
     "cell_type": "heading",
     "level": 2,
     "metadata": {},
     "source": [
      "Cloud Liquid Water"
     ]
    },
    {
     "cell_type": "code",
     "collapsed": false,
     "input": [
      "title=\"\"\"CloudSat Liquid water starting at {} \n",
      "         for Granule Number: {}\n",
      "      \"\"\".format(orbit_start,granule_id)\n",
      "\n",
      "OT.draw_CloudSat_2Dvar(lon_seg_mesh, lat_seg, height_seg, elev_seg, time_seg, clw_seg/1e3,  plt.cm.YlGnBu,\\\n",
      "                 'Cloud Liquid Water ( $\\mathrm{kg/m^3}$ )', title, 'figures/03_CLW.png')"
     ],
     "language": "python",
     "metadata": {},
     "outputs": []
    },
    {
     "cell_type": "heading",
     "level": 2,
     "metadata": {},
     "source": [
      "ECMWF Background Info."
     ]
    },
    {
     "cell_type": "markdown",
     "metadata": {},
     "source": [
      "**Pressure**"
     ]
    },
    {
     "cell_type": "code",
     "collapsed": false,
     "input": [
      "title=\"\"\"CloudSat ECMWF pressure starting at {} \n",
      "         for Granule Number: {}\n",
      "      \"\"\".format(orbit_start,granule_id)\n",
      "OT.draw_CloudSat_2Dvar(lon_seg_mesh, lat_seg, height_seg, elev_seg, time_seg, P_seg,  plt.cm.jet,\\\n",
      "                 'Pressure ( hPa )', title, 'figures/03_Pres.png')"
     ],
     "language": "python",
     "metadata": {},
     "outputs": []
    },
    {
     "cell_type": "markdown",
     "metadata": {},
     "source": [
      "**Temperature**"
     ]
    },
    {
     "cell_type": "code",
     "collapsed": false,
     "input": [
      "title=\"\"\"CloudSat ECMWF temperature starting at {} \n",
      "         for Granule Number: {}\n",
      "      \"\"\".format(orbit_start,granule_id)\n",
      "OT.draw_CloudSat_2Dvar(lon_seg_mesh, lat_seg, height_seg, elev_seg, time_seg, T_seg,  plt.cm.gnuplot,\\\n",
      "                 'Temperature ( K )', title, 'figures/03_Temp.png')"
     ],
     "language": "python",
     "metadata": {},
     "outputs": []
    },
    {
     "cell_type": "markdown",
     "metadata": {},
     "source": [
      "**Specific Humidity**"
     ]
    },
    {
     "cell_type": "code",
     "collapsed": false,
     "input": [
      "title=\"\"\"CloudSat ECMWF specific humidity starting at {} \n",
      "         for Granule Number: {}\n",
      "      \"\"\".format(orbit_start,granule_id)\n",
      "OT.draw_CloudSat_2Dvar(lon_seg_mesh, lat_seg, height_seg, elev_seg, time_seg, q_seg*1e3,  plt.cm.gist_ncar_r,\\\n",
      "                 'Specific Humidity ( g/kg )', title, 'figures/03_q.png')"
     ],
     "language": "python",
     "metadata": {},
     "outputs": []
    },
    {
     "cell_type": "code",
     "collapsed": false,
     "input": [],
     "language": "python",
     "metadata": {},
     "outputs": []
    }
   ],
   "metadata": {}
  }
 ]
}