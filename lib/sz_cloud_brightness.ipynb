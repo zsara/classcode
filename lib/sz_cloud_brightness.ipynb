{
 "metadata": {
  "name": "",
  "signature": "sha256:f3c995d19a280cad04230b8f25ffa422bb1e958679b933f600a07f561cae2a20"
 },
 "nbformat": 3,
 "nbformat_minor": 0,
 "worksheets": [
  {
   "cells": [
    {
     "cell_type": "markdown",
     "metadata": {},
     "source": [
      "## getting the cloud fraction from channels 1 and 31 -- brightness temperature"
     ]
    },
    {
     "cell_type": "markdown",
     "metadata": {},
     "source": [
      "### This is a modification of cloud_fraction.ipynb to use brightness temperature instead of Channel 31 radiance"
     ]
    },
    {
     "cell_type": "markdown",
     "metadata": {},
     "source": [
      "For Wednesday's assignment you wrote a script [subset.py](https://github.com/a301-teaching/classcode/blob/master/lib/subset.py) that defined the output_h5 function and wrote test_output.h5\n",
      "Now read channel1 and channel 31 back in and use them to calculate the cloud fraction.  (Recall that \n",
      "[MODIS channels 1 and 31](http://en.wikipedia.org/wiki/Moderate-Resolution_Imaging_Spectroradiometer)\n",
      "are centered at about 0.64 microns and 11 microns, respectively.)  This notebook assumes that you have converted your\n",
      "MYD021KM and MYD03 files to test_output."
     ]
    },
    {
     "cell_type": "code",
     "collapsed": false,
     "input": [
      "from __future__ import print_function\n",
      "from __future__ import division\n",
      "import os,site\n",
      "import glob\n",
      "import h5py\n",
      "import numpy as np\n",
      "from matplotlib import pyplot as plt\n",
      "#\n",
      "# add the lib folder to the path assuming it is on the same\n",
      "# level as the notebooks folder\n",
      "#\n",
      "libdir=os.path.abspath('../lib')\n",
      "site.addsitedir(libdir)\n",
      "from modismeta_h5 import parseMeta\n",
      "from h5dump import dumph5"
     ],
     "language": "python",
     "metadata": {},
     "outputs": [],
     "prompt_number": 1
    },
    {
     "cell_type": "code",
     "collapsed": false,
     "input": [
      "%matplotlib inline"
     ],
     "language": "python",
     "metadata": {},
     "outputs": [],
     "prompt_number": 2
    },
    {
     "cell_type": "markdown",
     "metadata": {},
     "source": [
      "the glob function finds a file using a wildcard to save typing (google: python glob wildcard)"
     ]
    },
    {
     "cell_type": "code",
     "collapsed": false,
     "input": [
      "h5_filename=glob.glob('../lib/test_output.h5')[0]\n",
      "print(\"found subsetted file {}\".format(h5_filename))"
     ],
     "language": "python",
     "metadata": {},
     "outputs": [
      {
       "output_type": "stream",
       "stream": "stdout",
       "text": [
        "found subsetted file ../lib/test_output.h5\n"
       ]
      }
     ],
     "prompt_number": 3
    },
    {
     "cell_type": "code",
     "collapsed": false,
     "input": [
      "h5_file=h5py.File(h5_filename)"
     ],
     "language": "python",
     "metadata": {},
     "outputs": [],
     "prompt_number": 4
    },
    {
     "cell_type": "markdown",
     "metadata": {},
     "source": [
      "**Read back the arrays I wrote with output_h5**"
     ]
    },
    {
     "cell_type": "code",
     "collapsed": false,
     "input": [
      "chan1=h5_file['channel1'][...]\n",
      "chan31=h5_file['channel31'][...]\n",
      "lats=h5_file['lattitude'][...]\n",
      "lons=h5_file['longitude'][...]"
     ],
     "language": "python",
     "metadata": {},
     "outputs": [],
     "prompt_number": 5
    },
    {
     "cell_type": "markdown",
     "metadata": {},
     "source": [
      "### find the brightness temperature for the chan31 radiances at 11.05 microns"
     ]
    },
    {
     "cell_type": "code",
     "collapsed": false,
     "input": [
      "c=2.99792458e+08  #m/s -- speed of light in vacumn\n",
      "h=6.62606876e-34  #J s  -- Planck's constant\n",
      "kb=1.3806503e-23  # J/K  -- Boltzman's constant\n",
      "c1=2.*h*c**2.\n",
      "c2=h*c/kb\n",
      "\n",
      "def planckInvert(wavel,Llambda):\n",
      "    \"\"\"input wavelength in microns and Llambda in W/m^2/micron/sr, output\n",
      "    output brightness temperature in K  (note that we've remove the factor\n",
      "    of pi because we are working with radiances, not fluxes)\n",
      "    \"\"\"\n",
      "    Llambda=Llambda*1.e6  #convert to W/m^2/m/sr\n",
      "    wavel=wavel*1.e-6  #convert wavelength to m\n",
      "    Tbright=c2/(wavel*np.log(c1/(wavel**5.*Llambda) + 1.))\n",
      "    return Tbright"
     ],
     "language": "python",
     "metadata": {},
     "outputs": [],
     "prompt_number": 6
    },
    {
     "cell_type": "code",
     "collapsed": false,
     "input": [
      "Tb=planckInvert(11.05,chan31)\n",
      "print(Tb)"
     ],
     "language": "python",
     "metadata": {},
     "outputs": [
      {
       "output_type": "stream",
       "stream": "stdout",
       "text": [
        "[[ 288.14517212  290.01086426  291.84594727 ...,  266.43786621\n",
        "   268.76477051  268.75671387]\n",
        " [ 288.19171143  289.49316406  291.62704468 ...,  266.42959595\n",
        "   268.98217773  263.80249023]\n",
        " [ 289.38146973  290.04354858  291.76873779 ...,  263.94717407\n",
        "   267.99572754  260.81246948]\n",
        " ..., \n",
        " [ 294.24551392  294.06271362  292.92144775 ...,  289.07202148\n",
        "   288.38424683  288.24484253]\n",
        " [ 294.46578979  294.46578979  293.28405762 ...,  289.56539917\n",
        "   288.81460571  288.33779907]\n",
        " [ 294.69818115  294.57263184  293.44909668 ...,  289.45376587\n",
        "   288.76834106  288.35772705]]\n"
       ]
      }
     ],
     "prompt_number": 7
    },
    {
     "cell_type": "markdown",
     "metadata": {},
     "source": [
      "turn the repoj_L1B notebook function into a module:"
     ]
    },
    {
     "cell_type": "code",
     "collapsed": false,
     "input": [
      "from reproject import reproj_L1B"
     ],
     "language": "python",
     "metadata": {},
     "outputs": [],
     "prompt_number": 8
    },
    {
     "cell_type": "markdown",
     "metadata": {},
     "source": [
      "## Two dimensional histograms using histogram2d"
     ]
    },
    {
     "cell_type": "markdown",
     "metadata": {},
     "source": [
      "### writing the gridded files  out to be reused in subsequent runs (memoization)"
     ]
    },
    {
     "cell_type": "markdown",
     "metadata": {},
     "source": [
      "reprojecting onto a regular lat/lon grid takes a long time.  To speed things up, we save the gridded variables in\n",
      "an npz file if write_grid=True.   If we don't need to change the grid, we can set write_grid=False\n",
      "and just read the gridded files in."
     ]
    },
    {
     "cell_type": "code",
     "collapsed": false,
     "input": [
      "write_grid=True\n",
      "if os.path.exists('keepgrid.npz'):\n",
      "    print('found keepgrid.npz, reusing gridded fields')\n",
      "    write_grid=False\n",
      "if write_grid:\n",
      "    print('writing new keepgrid.npz file')\n",
      "    res=0.05\n",
      "    xlim=[np.min(lons), np.max(lons)]\n",
      "    ylim=[np.min(lats), np.max(lats)]\n",
      "    Tb_grid, longitude, latitude, bin_count = reproj_L1B(Tb, lons, lats, xlim, ylim, res)\n",
      "    C1_grid, longitude, latitude, bin_count = reproj_L1B(chan1, lons, lats, xlim, ylim, res)\n",
      "    #\n",
      "    # save these arrays in a dictionary and write out to keepgrid.npz\n",
      "    #\n",
      "    keep_grids=dict(Tb_grid=Tb_grid,C1_grid=C1_grid,longitude=longitude,latitude=latitude,bin_count=bin_count)\n",
      "    np.savez('keepgrid.npz',**keep_grids)\n",
      "else:\n",
      "    grid_dict=np.load('keepgrid.npz')\n",
      "    latitude=grid_dict['latitude'];longitude=grid_dict['longitude'];bin_count=grid_dict['bin_count'];\n",
      "    Tb_grid=grid_dict['Tb_grid']"
     ],
     "language": "python",
     "metadata": {},
     "outputs": [
      {
       "output_type": "stream",
       "stream": "stdout",
       "text": [
        "writing new keepgrid.npz file\n"
       ]
      }
     ],
     "prompt_number": 9
    },
    {
     "cell_type": "markdown",
     "metadata": {},
     "source": [
      "As a first try: bin the longwave radiances into 100 bins and the shortwave reflectances into 150 bins"
     ]
    },
    {
     "cell_type": "code",
     "collapsed": false,
     "input": [
      "# create bins for brightness temp\n",
      "Tb_bins = 50\n",
      "Tb_lim=[np.nanmin(Tb_grid), np.nanmax(Tb_grid)]\n",
      "Tb_bins=np.linspace(Tb_lim[0], Tb_lim[1], Tb_bins, dtype=np.float)\n",
      "# and channel-1 reflectance\n",
      "C1_bins = 50\n",
      "C1_lim=[np.nanmin(C1_grid), np.nanmax(C1_grid)]\n",
      "C1_bins=np.linspace(C1_lim[0], C1_lim[1], C1_bins, dtype=np.float)"
     ],
     "language": "python",
     "metadata": {},
     "outputs": [],
     "prompt_number": 10
    },
    {
     "cell_type": "markdown",
     "metadata": {},
     "source": [
      "Here, we define **channel-1** data on **x-axis** and call `np.histogram2d` to get the bin_count value `x_edges` and `y_edges`. \n",
      "Use some print statments to find the dimensions of H, X, and Y.  In particular, make sure you understand\n",
      "how np.meshgrid is turning two 1-dimensional arrays into two 2-dimensional arrays.\n",
      "Try something like:\n",
      "\n",
      "np.meshgrid([1,2,3,4],[-1,-2,-3,-4,-5,-6]) to see what it does"
     ]
    },
    {
     "cell_type": "code",
     "collapsed": false,
     "input": [
      "y=Tb_grid.flat[:]; y_bins=Tb_bins # x: Tb\n",
      "x=C1_grid.flat[:]; x_bins=C1_bins # y: C1\n",
      "H, y_edges, x_edges = np.histogram2d(y, x, bins=(y_bins, x_bins))\n",
      "X, Y = np.meshgrid(x_edges[:-1], y_edges[:-1])"
     ],
     "language": "python",
     "metadata": {},
     "outputs": [
      {
       "output_type": "stream",
       "stream": "stderr",
       "text": [
        "C:\\Users\\Sara\\Anaconda\\lib\\site-packages\\numpy\\lib\\function_base.py:383: RuntimeWarning: invalid value encountered in greater_equal\n",
        "  not_smaller_than_edge = (sample[:, i] >= edges[i][-1])\n",
        "C:\\Users\\Sara\\Anaconda\\lib\\site-packages\\numpy\\core\\fromnumeric.py:2622: RuntimeWarning: invalid value encountered in rint\n",
        "  return round(decimals, out)\n"
       ]
      }
     ],
     "prompt_number": 11
    },
    {
     "cell_type": "markdown",
     "metadata": {},
     "source": [
      "Then we make 2-D histogram to see the difference between clouds and ocean, the core idea is:\n",
      "```python\n",
      " # 2-D histogram\n",
      "ax.contourf(X, Y, H/np.max(H)) # use percentage, because H depends on the resolution 'res' we used before.\n",
      "# try to distinguish clouds from ocean through linear function\n",
      "# x is channel-1\n",
      "```       \n",
      "\n",
      "We will display the 2-D histogram as the central plot, with 1-d histograms positioned\n",
      "to the left and below.  We want an approximately 9-color colormap showing percentages in increments\n",
      "of 10% between our min and max\n"
     ]
    },
    {
     "cell_type": "code",
     "collapsed": false,
     "input": [
      "# make_axes_locatable ---> for axis control\n",
      "from mpl_toolkits.axes_grid1 import make_axes_locatable\n",
      "# set axis locations for three different plots\n",
      "# a main contour plot and two histograms below and on\n",
      "# the left hand side\n",
      "#\n",
      "left=0.1; width = 0.8; bottom=0.1; height = 0.65\n",
      "gap=0.02; hist_len=0.2; cbar_len=0.12\n",
      "# location of the three axes  -- located by trial and error\n",
      "#\n",
      "#\n",
      "rect_main  = [left+hist_len+gap, bottom, width, height]\n",
      "rect_histx = [left+hist_len+gap, left+height+gap, width-cbar_len, hist_len]\n",
      "rect_histy = [left, bottom, hist_len, height]\n",
      "# clev\n",
      "#clevs=range(40, 281, 40)\n",
      "#\n",
      "# set up a color map for the histogram percentages,  again\n",
      "# trial and erro shows that about 10 bins between 3 and 30%\n",
      "# looks attractive\n",
      "#\n",
      "#  also assign white to percentages below 3%\n",
      "#\n",
      "#\n",
      "clevs=np.arange(3, 31, 3)\n",
      "CMap=plt.cm.PuBu\n",
      "CMap.set_over(CMap(np.arange(256))[-1, 0:3])\n",
      "CMap.set_under('w')\n",
      "#\n",
      "xlim_bin=[np.min(X), np.max(X)]\n",
      "ylim_bin=[np.min(Y), np.max(Y)]\n",
      "#\n",
      "# ========== figure ========== #\n",
      "fig=plt.figure(figsize=(9, 9))\n",
      "# ========== Central histogram here ========== #\n",
      "# axis \n",
      "axMain=plt.axes(rect_main)\n",
      "axMain.yaxis.tick_right()\n",
      "axMain.yaxis.set_label_position('right')\n",
      "axMain.set_xlim(xlim_bin)\n",
      "axMain.set_ylim(ylim_bin)\n",
      "axMain.set_xlabel('Channel-1 reflectivity', fontsize=12)\n",
      "axMain.set_ylabel('Channel-31 brightness temperature (K)', fontsize=12)\n",
      "axMain.set_title('2-D Histogram -- MODIS 0.6 and 11 microns', fontsize=16, fontweight='bold', x=1.15, y=1.15)\n",
      "#\n",
      "#  divider is a container  used locate the colorbar to the right of the 2-d histogram\n",
      "#  it knows where axMain is located on the page\n",
      "#\n",
      "divider=make_axes_locatable(axMain)\n",
      "# grid and frame\n",
      "plt.grid() # grid on\n",
      "#\n",
      "#  make the axes thicker than default\n",
      "#\n",
      "[i.set_linewidth(2) for i in axMain.spines.itervalues()] # a bold frame\n",
      "#\n",
      "#  plot the main histogram with the counts converted to percent\n",
      "#\n",
      "CS=axMain.contourf(X, Y, H/np.max(H)*100, clevs, cmap=CMap, extend='both') # 2-D histgram\n",
      "CAx=divider.append_axes('right', size='5%', pad=0.75)\n",
      "CBar=plt.colorbar(CS, cax=CAx)\n",
      "CBar.set_label('Percentage ( % )', fontsize=10)\n",
      "CBar.ax.tick_params(axis='y', length=22.5)\n",
      "# draw line showing the boundary between cloudy and clear pixels\n",
      "#\n",
      "#  slope and intercept chosen by eye\n",
      "#  the line Tbright=reflectivity*20./0.2 + 275.  seems to separate the \n",
      "#  main warm cluster from the colder clouds\n",
      "#\n",
      "axMain.plot(x_edges, x_edges*20./0.2 + 275., \\\n",
      "            color='k', linestyle='--', linewidth=5)\n",
      "axMain.text(0.2, 295., 'Ocean', fontsize=16, fontweight='bold', \\\n",
      "                    ha='center', va='center', color='k')\n",
      "axMain.text(0.12, 260, 'Cloud', fontsize=16, fontweight='bold', \\\n",
      "                    ha='center', va='center', color='k')\n",
      "#\n",
      "# ========== Hist-x on bottom axis========== #\n",
      "#  place a 1-d histogram below the 2-d histogram to show\n",
      "#  channel 1 reflectivities\n",
      "#\n",
      "axHistx=plt.axes(rect_histx)\n",
      "axHistx.hist(x, bins=x_bins, color=[0.3, 0.6, 0.8])\n",
      "axHistx.set_xlim(xlim_bin)\n",
      "axHistx.axes.get_xaxis().set_visible(False)\n",
      "# scientific notation for x, y-axis\n",
      "plt.ticklabel_format(style='sci', axis='both', scilimits=(0,0))\n",
      "[i.set_linewidth(2) for i in axHistx.spines.itervalues()]\n",
      "#\n",
      "# ========== Hist-y ========== #\n",
      "#\n",
      "# place a 1-d histogram to the left of the 2-d histogram to show channel 31\n",
      "#\n",
      "axHisty = plt.axes(rect_histy)\n",
      "axHisty.hist(y, bins=y_bins, color=[0.3, 0.6, 0.8], orientation='horizontal')\n",
      "axHisty.set_ylim(ylim_bin)\n",
      "axHisty.invert_xaxis()\n",
      "axHisty.axes.get_yaxis().set_visible(False)\n",
      "plt.ticklabel_format(style='sci', axis='both', scilimits=(0,0))\n",
      "out=[i.set_linewidth(2) for i in axHisty.spines.itervalues()]\n",
      "# savefig\n",
      "#plt.savefig('01_MODIS_L1B_histgram.png', dpi=450, facecolor='w', edgecolor='w',\n",
      "#            orientation='portrait', papertype='letter', format='png',\n",
      "#            transparent=True, bbox_inches='tight', pad_inches=0,\n",
      "#           frameon=None)"
     ],
     "language": "python",
     "metadata": {},
     "outputs": [
      {
       "metadata": {},
       "output_type": "display_data",
       "png": "[encoded data removed]",
       "text": [
        "<matplotlib.figure.Figure at 0xa888240>"
       ]
      }
     ],
     "prompt_number": 12
    },
    {
     "cell_type": "markdown",
     "metadata": {},
     "source": [
      "## Now find all the pixels that lie above our \"decision boundary\" and count them to get open water fraction of scene"
     ]
    },
    {
     "cell_type": "code",
     "collapsed": false,
     "input": [
      "clear_cloudy=np.empty_like(Tb_grid)\n",
      "clear_cloudy[...]=np.nan\n",
      "for i in range(Tb_grid.shape[0]):\n",
      "    for j in range(Tb_grid.shape[1]):\n",
      "        #dashed line: Tbright=reflectivity*20./0.2 + 275.\n",
      "        if(Tb_grid[i, j] >  C1_grid[i, j]*20/0.2 + 275.):\n",
      "           #print(i,j,Tb_grid[i,j])\n",
      "           clear_cloudy[i, j]=Tb_grid[i, j]\n",
      "open_water=clear_cloudy[~np.isnan(clear_cloudy)]\n",
      "open_fraction=open_water.size/clear_cloudy.size\n",
      "print(\"Fraction of scene that is open water is: {:5.3f}\".format(open_fraction))"
     ],
     "language": "python",
     "metadata": {},
     "outputs": [
      {
       "output_type": "stream",
       "stream": "stdout",
       "text": [
        "Fraction of scene that is open water is: 0.238\n"
       ]
      }
     ],
     "prompt_number": 13
    },
    {
     "cell_type": "code",
     "collapsed": false,
     "input": [],
     "language": "python",
     "metadata": {},
     "outputs": [],
     "prompt_number": 13
    }
   ],
   "metadata": {}
  }
 ]
}