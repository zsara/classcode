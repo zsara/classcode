{
 "metadata": {
  "name": "",
  "signature": "sha256:3736a5cdffd6cbb277215c43e5385e6fd1be535c00fc6f9c09dcf5c41a6ebecc"
 },
 "nbformat": 3,
 "nbformat_minor": 0,
 "worksheets": [
  {
   "cells": [
    {
     "cell_type": "heading",
     "level": 2,
     "metadata": {},
     "source": [
      "Reading MODIS level 1b data in hdf5 format"
     ]
    },
    {
     "cell_type": "markdown",
     "metadata": {},
     "source": [
      "Here is a walkthrough of how to read metadata and data from a level1b hdf5 file.  I've used the the converter I downloaded from\n",
      "http://hdfeos.org/software/h4toh5/bin/ (for linux and osx) and http://www.hdfgroup.org/h4toh5/download.html (Windows and linux64) to convert MYD021KM.A2005188.0405.005.2009232180906.hdf to hdf5 and put it in the folder at http://clouds.eos.ubc.ca/~phil/Downloads/a301/MYD021KM.A2005188.0405.005.2009232180906.h5 (right click to save to your local drive (147 Mbytes))"
     ]
    },
    {
     "cell_type": "markdown",
     "metadata": {},
     "source": [
      "**Convert HDF4 to HDF5 on Windows**"
     ]
    },
    {
     "cell_type": "markdown",
     "metadata": {},
     "source": [
      "Windows user can convert from HDF4 to HDF5 using [h4toh5](http://www.hdfgroup.org/h4toh5/download.html)  provided by the HDF group."
     ]
    },
    {
     "cell_type": "markdown",
     "metadata": {},
     "source": [
      "Here are the steps:\n",
      "* Download `h4h5tools-2.2.2-win32.zip` or `h4h5tools-2.2.2-win64.zip` on your machine.\n",
      "* Uncompress the \\*.zip file, run installation file \\*.exe\n",
      "* Launch cmd.exe from the start menu\n",
      "* cd to `bin` folder (e.g. `cd F:\\HDF_Group\\H4TOH5\\2.2.2\\bin`)\n",
      "* use h4toh5 tool in the following ways:\n",
      "```bash\n",
      "        h4toh5convert input.hdf output.h5\n",
      "        h4toh5convert -na input.hdf output.h5\n",
      "        h4toh5convert -nc4 input.hdf output.h5`\n",
      "```\n",
      "* type h4toh5convert -h in a command window to see the full help file\n",
      "* You can add h4toh5 on your system's Environmental Variable `PATH`, or `set PATH=F:\\HDF_Group\\H4TOH5\\2.2.2\\bin ` and then you can use `h4toh5convert` everywhere. "
     ]
    },
    {
     "cell_type": "markdown",
     "metadata": {},
     "source": [
      "**Convert HDF4 to HDF5 on OSX**"
     ]
    },
    {
     "cell_type": "markdown",
     "metadata": {},
     "source": [
      "To download h4toh5 from  http://hdfeos.org/software/h4toh5/bin/mac\n",
      "right click on h4toh5 and save as a binary file\n",
      "open a terminal, cd to the directory containing h4toh5 and make it an executable\n",
      "\n",
      "`chmod a+x h4toh5`\n",
      "\n",
      "add this directory to the PATH environmental variable in your ~/.bashrc file to\n",
      "make it generally available, or run it by specifying the full path to h4toh5 like this:\n",
      "\n",
      "`/Users/phil/bin/h4toh5 *hdf`"
     ]
    },
    {
     "cell_type": "markdown",
     "metadata": {},
     "source": [
      "I'm going to use two new modules (lib/modismeta_h5.py and lib/h5dump.py) to read the granule"
     ]
    },
    {
     "cell_type": "code",
     "collapsed": false,
     "input": [
      "from __future__ import print_function\n",
      "import os,site\n",
      "import glob\n",
      "import h5py\n",
      "from IPython.display import Image\n",
      "#\n",
      "# add the lib folder to the path assuming it is on the same\n",
      "# level as the notebooks folder\n",
      "#\n",
      "libdir=os.path.abspath('../lib')\n",
      "site.addsitedir(libdir)\n",
      "from modismeta_h5 import parseMeta\n",
      "import h5dump\n",
      "from h5dump import dumph5\n"
     ],
     "language": "python",
     "metadata": {},
     "outputs": [],
     "prompt_number": ""
    },
    {
     "cell_type": "markdown",
     "metadata": {},
     "source": [
      "the glob function finds a file using a wildcard to save typing (google: python glob wildcard)"
     ]
    },
    {
     "cell_type": "code",
     "collapsed": false,
     "input": [
      "h5_filename=glob.glob('../lib/MYD02*.h5')\n",
      "print(\"found {}\".format(h5_filename))"
     ],
     "language": "python",
     "metadata": {},
     "outputs": [],
     "prompt_number": ""
    },
    {
     "cell_type": "code",
     "collapsed": false,
     "input": [
      "h5_file=h5py.File(h5_filename[0])"
     ],
     "language": "python",
     "metadata": {},
     "outputs": [],
     "prompt_number": ""
    },
    {
     "cell_type": "markdown",
     "metadata": {},
     "source": [
      "h5 files have attributes -- stored as a dictionary"
     ]
    },
    {
     "cell_type": "code",
     "collapsed": false,
     "input": [
      "print(h5_file.attrs.keys())"
     ],
     "language": "python",
     "metadata": {},
     "outputs": [],
     "prompt_number": ""
    },
    {
     "cell_type": "code",
     "collapsed": false,
     "input": [
      "print(h5_file.attrs['Earth-Sun Distance_GLOSDS'])"
     ],
     "language": "python",
     "metadata": {},
     "outputs": [],
     "prompt_number": ""
    },
    {
     "cell_type": "code",
     "collapsed": false,
     "input": [
      "print(h5_file.attrs['HDFEOSVersion_GLOSDS'])"
     ],
     "language": "python",
     "metadata": {},
     "outputs": [],
     "prompt_number": ""
    },
    {
     "cell_type": "markdown",
     "metadata": {},
     "source": [
      "h5 files have variables -- stored in a dictionary\n",
      "The fields are aranged in a hierarchy similar to a set of nested folders"
     ]
    },
    {
     "cell_type": "code",
     "collapsed": false,
     "input": [
      "reload(h5dump)\n",
      "h5dump.dumph5(h5_file)"
     ],
     "language": "python",
     "metadata": {},
     "outputs": [],
     "prompt_number": ""
    },
    {
     "cell_type": "markdown",
     "metadata": {},
     "source": [
      "Tools like <a href='http://hdfeos.org/software/hdfexplorer.php'>HDF Explorer</a> or <a href='http://www.hdfgroup.org/products/java/hdfview/'>HDF Viewer</a>. give a more complete view of HDF's file structure."
     ]
    },
    {
     "cell_type": "code",
     "collapsed": false,
     "input": [
      "Image(url='http://clouds.eos.ubc.ca/~phil/courses/atsc301/text/HDF_file_structure.png')"
     ],
     "language": "python",
     "metadata": {},
     "outputs": [],
     "prompt_number": ""
    },
    {
     "cell_type": "markdown",
     "metadata": {},
     "source": [
      "**Read the radiance data from MODIS_SWATH_Type_L1B/Data Fields/EV_1KM_Emissive**"
     ]
    },
    {
     "cell_type": "code",
     "collapsed": false,
     "input": [
      "print(h5_file.keys())"
     ],
     "language": "python",
     "metadata": {},
     "outputs": [],
     "prompt_number": ""
    },
    {
     "cell_type": "code",
     "collapsed": false,
     "input": [
      "print(h5_file['MODIS_SWATH_Type_L1B'].keys())"
     ],
     "language": "python",
     "metadata": {},
     "outputs": [],
     "prompt_number": ""
    },
    {
     "cell_type": "code",
     "collapsed": false,
     "input": [
      "print(h5_file['MODIS_SWATH_Type_L1B']['Data Fields'].keys())"
     ],
     "language": "python",
     "metadata": {},
     "outputs": [],
     "prompt_number": ""
    },
    {
     "cell_type": "code",
     "collapsed": false,
     "input": [
      "print(h5_file['MODIS_SWATH_Type_L1B']['Data Fields']['Band_1KM_Emissive'].shape)\n",
      "print(h5_file['MODIS_SWATH_Type_L1B']['Data Fields']['Band_1KM_Emissive'][...])\n",
      "print(h5_file['MODIS_SWATH_Type_L1B']['Data Fields']['EV_1KM_Emissive'].shape)"
     ],
     "language": "python",
     "metadata": {},
     "outputs": [],
     "prompt_number": ""
    },
    {
     "cell_type": "markdown",
     "metadata": {},
     "source": [
      "**note that channel 31 occurs at index value 10**"
     ]
    },
    {
     "cell_type": "code",
     "collapsed": false,
     "input": [
      "index31=10"
     ],
     "language": "python",
     "metadata": {},
     "outputs": [],
     "prompt_number": ""
    },
    {
     "cell_type": "markdown",
     "metadata": {},
     "source": [
      "**the data is stored as unsigned, 2 byte integers which can hold values from 0 to $2^{16}$ - 1 = 65,535 **"
     ]
    },
    {
     "cell_type": "code",
     "collapsed": false,
     "input": [
      "chan31=h5_file['MODIS_SWATH_Type_L1B']['Data Fields']['EV_1KM_Emissive'][index31,:,:]\n",
      "print(chan31.shape,chan31.dtype)"
     ],
     "language": "python",
     "metadata": {},
     "outputs": [],
     "prompt_number": ""
    },
    {
     "cell_type": "code",
     "collapsed": false,
     "input": [
      "chan31[:3,:3]"
     ],
     "language": "python",
     "metadata": {},
     "outputs": [],
     "prompt_number": ""
    },
    {
     "cell_type": "markdown",
     "metadata": {},
     "source": [
      "** we need to apply a\n",
      "scale and offset to convert to radiance (the netcdf module did this for us automatically**"
     ]
    },
    {
     "cell_type": "markdown",
     "metadata": {},
     "source": [
      "$Data = (RawData - offset) \\times scale$\n",
      "\n",
      "this information is included in the attributes of each variable.\n",
      "\n",
      "(see page 36 of the [Modis users guide](http://clouds.eos.ubc.ca/~phil/courses/atsc301/text/modis_users_guide.pdf) )"
     ]
    },
    {
     "cell_type": "markdown",
     "metadata": {},
     "source": [
      "**here is the scale for all 16 channels**"
     ]
    },
    {
     "cell_type": "code",
     "collapsed": false,
     "input": [
      "scale=h5_file['MODIS_SWATH_Type_L1B']['Data Fields']['EV_1KM_Emissive'].attrs['radiance_scales'][...]\n",
      "print(scale)"
     ],
     "language": "python",
     "metadata": {},
     "outputs": [],
     "prompt_number": ""
    },
    {
     "cell_type": "markdown",
     "metadata": {},
     "source": [
      "**and here is the offset for 16 channels**"
     ]
    },
    {
     "cell_type": "code",
     "collapsed": false,
     "input": [
      "offset=h5_file['MODIS_SWATH_Type_L1B']['Data Fields']['EV_1KM_Emissive'].attrs['radiance_offsets'][...]\n",
      "print(offset)"
     ],
     "language": "python",
     "metadata": {},
     "outputs": [],
     "prompt_number": ""
    },
    {
     "cell_type": "code",
     "collapsed": false,
     "input": [
      "chan31=(chan31 - offset[index31])*scale[index31]"
     ],
     "language": "python",
     "metadata": {},
     "outputs": [],
     "prompt_number": ""
    },
    {
     "cell_type": "code",
     "collapsed": false,
     "input": [
      "%matplotlib inline"
     ],
     "language": "python",
     "metadata": {},
     "outputs": [],
     "prompt_number": ""
    },
    {
     "cell_type": "markdown",
     "metadata": {},
     "source": [
      "**histogram the calibrated radiances and show that they lie between\n",
      "0-10 $W\\,m^{-2}\\,\\mu m^{-1}\\,sr^{-1}$ **"
     ]
    },
    {
     "cell_type": "code",
     "collapsed": false,
     "input": [
      "import matplotlib.pyplot as plt\n",
      "out=plt.hist(chan31.flat)"
     ],
     "language": "python",
     "metadata": {},
     "outputs": [],
     "prompt_number": ""
    },
    {
     "cell_type": "markdown",
     "metadata": {},
     "source": [
      "**Read MODIS_SWATH_Type_L1B/Geolocation Fields/Longitude**"
     ]
    },
    {
     "cell_type": "markdown",
     "metadata": {},
     "source": [
      "note that the longitude and latitude arrays are (406,271) while the actual\n",
      "data are (2030,1354).   These lat/lon arrays show only every fifth row and column"
     ]
    },
    {
     "cell_type": "code",
     "collapsed": false,
     "input": [
      "long_data=h5_file['MODIS_SWATH_Type_L1B']['Geolocation Fields']['Longitude']"
     ],
     "language": "python",
     "metadata": {},
     "outputs": [],
     "prompt_number": ""
    },
    {
     "cell_type": "code",
     "collapsed": false,
     "input": [
      "print(long_data.shape)"
     ],
     "language": "python",
     "metadata": {},
     "outputs": [],
     "prompt_number": ""
    },
    {
     "cell_type": "code",
     "collapsed": false,
     "input": [
      "print(long_data[:3,:3])"
     ],
     "language": "python",
     "metadata": {},
     "outputs": [],
     "prompt_number": ""
    },
    {
     "cell_type": "heading",
     "level": 2,
     "metadata": {},
     "source": [
      "Dump a selection of metadata"
     ]
    },
    {
     "cell_type": "code",
     "collapsed": false,
     "input": [
      "from modismeta_h5 import parseMeta"
     ],
     "language": "python",
     "metadata": {},
     "outputs": [],
     "prompt_number": ""
    },
    {
     "cell_type": "code",
     "collapsed": false,
     "input": [
      "print(parseMeta(h5_file))"
     ],
     "language": "python",
     "metadata": {},
     "outputs": [],
     "prompt_number": ""
    }
   ],
   "metadata": {}
  }
 ]
}