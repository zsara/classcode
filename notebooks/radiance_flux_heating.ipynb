{
 "metadata": {
  "name": "",
  "signature": "sha256:3c89fba1b87dd962cefbd4f3b3aa9919a34a26033826eb5a870ca0fbcbb11ba9"
 },
 "nbformat": 3,
 "nbformat_minor": 0,
 "worksheets": [
  {
   "cells": [
    {
     "cell_type": "heading",
     "level": 2,
     "metadata": {},
     "source": [
      "This notebook demonstrates functions in [radiances.py](https://github.com/a301-teaching/classcode/blob/master/lib/radiances.py) and [fluxes.py](https://github.com/a301-teaching/classcode/blob/master/lib/fluxes.py)"
     ]
    },
    {
     "cell_type": "code",
     "collapsed": false,
     "input": [
      "#\n",
      "#start by importing the necessary routines from the lib folder\n",
      "#\n",
      "from __future__ import print_function\n",
      "from matplotlib import pyplot as plt\n",
      "try:\n",
      "    import seaborn\n",
      "except:\n",
      "    pass\n",
      "import os,site\n",
      "currdir=os.getcwd()\n",
      "head,tail=os.path.split(currdir)\n",
      "libdir=os.path.join(head,'lib')\n",
      "site.addsitedir(libdir)\n",
      "from radiances import hydrostat,find_tau,radiances"
     ],
     "language": "python",
     "metadata": {},
     "outputs": [],
     "prompt_number": ""
    },
    {
     "cell_type": "code",
     "collapsed": false,
     "input": [
      "%matplotlib inline"
     ],
     "language": "python",
     "metadata": {},
     "outputs": [],
     "prompt_number": ""
    },
    {
     "cell_type": "code",
     "collapsed": false,
     "input": [
      "#atmospheric properties\n",
      "r_gas=0.01  #kg/kg\n",
      "k_lambda=0.01  #m^2/kg\n",
      "T_surf=300 #K\n",
      "p_surf=100.e3 #Pa\n",
      "dT_dz = -7.e-3 #K/km\n",
      "delta_z=10\n",
      "num_levels=1500"
     ],
     "language": "python",
     "metadata": {},
     "outputs": [],
     "prompt_number": ""
    },
    {
     "cell_type": "code",
     "collapsed": false,
     "input": [
      "Temp,press,rho,height=hydrostat(T_surf,p_surf,dT_dz,delta_z,num_levels)\n",
      "tau=find_tau(r_gas,k_lambda,rho,height)\n",
      "up,down=radiances(tau,Temp,height,T_surf)"
     ],
     "language": "python",
     "metadata": {},
     "outputs": [],
     "prompt_number": ""
    },
    {
     "cell_type": "code",
     "collapsed": false,
     "input": [
      "up"
     ],
     "language": "python",
     "metadata": {},
     "outputs": [],
     "prompt_number": ""
    },
    {
     "cell_type": "code",
     "collapsed": false,
     "input": [
      "fig1,axis1=plt.subplots(1,1)\n",
      "axis1.plot(up,height*0.001,'b-',lw=5,label='upward radiance')\n",
      "axis1.plot(down,height*0.001,'g-',lw=5,label='downward radiance')\n",
      "axis1.set_title('upward and downward radiances')\n",
      "axis1.set_xlabel('radiance $(W\\,m^{-2}\\,sr^{-1})$')\n",
      "axis1.set_ylabel('height (km)')\n",
      "axis1.legend(numpoints=1,loc='best')"
     ],
     "language": "python",
     "metadata": {},
     "outputs": [],
     "prompt_number": ""
    },
    {
     "cell_type": "code",
     "collapsed": false,
     "input": [
      "fig2,axis2=plt.subplots(1,1)\n",
      "axis2.plot(up-down,height*0.001,'b-',lw=5)\n",
      "axis2.set_title('net upward radiance')\n",
      "axis2.set_xlabel('net upward radiance $(W\\,m^{-2}\\,sr^{-1})$')\n",
      "axis2.set_ylabel('height (km)')"
     ],
     "language": "python",
     "metadata": {},
     "outputs": [],
     "prompt_number": ""
    },
    {
     "cell_type": "code",
     "collapsed": false,
     "input": [
      "from fluxes import fluxes\n",
      "up,down=fluxes(tau,Temp,height,T_surf)"
     ],
     "language": "python",
     "metadata": {},
     "outputs": [],
     "prompt_number": ""
    },
    {
     "cell_type": "code",
     "collapsed": false,
     "input": [
      "fig1,axis1=plt.subplots(1,1)\n",
      "axis1.plot(up,height*0.001,'b-',lw=5,label='upward flux')\n",
      "axis1.plot(down,height*0.001,'g-',lw=5,label='downward lux')\n",
      "axis1.set_title('upward and downward fluxes')\n",
      "axis1.set_xlabel('flux $(W\\,m^{-2})$')\n",
      "axis1.set_ylabel('height (km)')\n",
      "axis1.legend(numpoints=1,loc='best')"
     ],
     "language": "python",
     "metadata": {},
     "outputs": [],
     "prompt_number": ""
    },
    {
     "cell_type": "code",
     "collapsed": false,
     "input": [
      "fig2,axis2=plt.subplots(1,1)\n",
      "axis2.plot(up-down,height*0.001,'b-',lw=5)\n",
      "axis2.set_title('net upward flux')\n",
      "axis2.set_xlabel('net upward flux $(W\\,m^{-2})$')\n",
      "axis2.set_ylabel('height (km)')"
     ],
     "language": "python",
     "metadata": {},
     "outputs": [],
     "prompt_number": ""
    },
    {
     "cell_type": "code",
     "collapsed": false,
     "input": [
      "from fluxes import heating_rate\n",
      "dT_dt=heating_rate(up - down,height,rho)\n",
      "fig3,axis3=plt.subplots(1,1)\n",
      "#\n",
      "#find the height at mid-layer\n",
      "#\n",
      "layer_height=(height[1:] + height[:-1])/2.\n",
      "axis3.plot(dT_dt*3600.*24.,layer_height*0.001,'b-',lw=5)\n",
      "axis3.set_title('heating rate in K/day')\n",
      "axis3.set_xlabel('heating rate (K/day)')\n",
      "axis3.set_ylabel('height (km)')"
     ],
     "language": "python",
     "metadata": {},
     "outputs": [],
     "prompt_number": ""
    },
    {
     "cell_type": "code",
     "collapsed": false,
     "input": [],
     "language": "python",
     "metadata": {},
     "outputs": [],
     "prompt_number": ""
    }
   ],
   "metadata": {}
  }
 ]
}