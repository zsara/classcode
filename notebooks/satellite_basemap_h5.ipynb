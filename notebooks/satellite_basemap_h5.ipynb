{
 "metadata": {
  "name": "",
  "signature": "sha256:7682acdcea65c12171ca9c06b85c8ea3b3ddb35c444a1df0e8e00986a992fb69"
 },
 "nbformat": 3,
 "nbformat_minor": 0,
 "worksheets": [
  {
   "cells": [
    {
     "cell_type": "heading",
     "level": 2,
     "metadata": {},
     "source": [
      "***Plotting brightness temperatures in a Lambert Conformal Conic map projection***"
     ]
    },
    {
     "cell_type": "markdown",
     "metadata": {},
     "source": [
      "In this notebook we're going to continue working with http://clouds.eos.ubc.ca/~phil/Downloads/a301/MYD021KM.A2005188.0405.005.2009232180906.h5.  We will also need to go to Laadsweb and do a wildcard search on\n",
      "the filename:\n",
      "\n",
      "`MYD03.A2005188.0405.*`\n",
      "\n",
      "which will produce the geometry file which can be downloaded and converted to hdf5 to get\n",
      "\n",
      "http://clouds.eos.ubc.ca/~phil/Downloads/a301/MYD03.A2005188.0405.005.2009231234639.h5\n",
      "\n",
      "The MYD03 file contains the lat/lon for every\n",
      "pixel and is described at http://modaps.nascom.nasa.gov/services/about/products/MYD03.html  \n"
     ]
    },
    {
     "cell_type": "markdown",
     "metadata": {},
     "source": [
      "Recall that we read and converted the channel 31 radiance:"
     ]
    },
    {
     "cell_type": "code",
     "collapsed": false,
     "input": [
      "from __future__ import print_function\n",
      "import os,site\n",
      "import glob\n",
      "import h5py\n",
      "from IPython.display import Image\n",
      "import numpy as np\n",
      "from matplotlib import pyplot as plt\n",
      "#\n",
      "# add the lib folder to the path assuming it is on the same\n",
      "# level as the notebooks folder\n",
      "#\n",
      "libdir=os.path.abspath('../lib')\n",
      "site.addsitedir(libdir)\n",
      "import h5dump\n"
     ],
     "language": "python",
     "metadata": {},
     "outputs": [],
     "prompt_number": ""
    },
    {
     "cell_type": "markdown",
     "metadata": {},
     "source": [
      "the glob function finds a file using a wildcard to save typing (google: python glob wildcard)"
     ]
    },
    {
     "cell_type": "code",
     "collapsed": false,
     "input": [
      "h5_filename=glob.glob('../lib/MYD02*.h5')\n",
      "print(\"found {}\".format(h5_filename))"
     ],
     "language": "python",
     "metadata": {},
     "outputs": [],
     "prompt_number": ""
    },
    {
     "cell_type": "code",
     "collapsed": false,
     "input": [
      "h5_file=h5py.File(h5_filename[0])"
     ],
     "language": "python",
     "metadata": {},
     "outputs": [],
     "prompt_number": ""
    },
    {
     "cell_type": "markdown",
     "metadata": {},
     "source": [
      "**Read the radiance data from MODIS_SWATH_Type_L1B/Data Fields/EV_1KM_Emissive**"
     ]
    },
    {
     "cell_type": "markdown",
     "metadata": {},
     "source": [
      "**note that channel 31 occurs at index value 10**"
     ]
    },
    {
     "cell_type": "code",
     "collapsed": false,
     "input": [
      "index31=10"
     ],
     "language": "python",
     "metadata": {},
     "outputs": [],
     "prompt_number": ""
    },
    {
     "cell_type": "markdown",
     "metadata": {},
     "source": [
      "**the data is stored as unsigned, 2 byte integers which can hold values from 0 to $2^{16}$ - 1 = 65,535 **"
     ]
    },
    {
     "cell_type": "code",
     "collapsed": false,
     "input": [
      "chan31=h5_file['MODIS_SWATH_Type_L1B']['Data Fields']['EV_1KM_Emissive'][index31,:,:]\n",
      "print(chan31.shape,chan31.dtype)"
     ],
     "language": "python",
     "metadata": {},
     "outputs": [],
     "prompt_number": ""
    },
    {
     "cell_type": "code",
     "collapsed": false,
     "input": [
      "chan31[:3,:3]"
     ],
     "language": "python",
     "metadata": {},
     "outputs": [],
     "prompt_number": ""
    },
    {
     "cell_type": "markdown",
     "metadata": {},
     "source": [
      "** we need to apply a\n",
      "scale and offset to convert to radiance (the netcdf module did this for us automatically**"
     ]
    },
    {
     "cell_type": "markdown",
     "metadata": {},
     "source": [
      "$Data = (RawData - offset) \\times scale$\n",
      "\n",
      "this information is included in the attributes of each variable.\n",
      "\n",
      "(see page 36 of the [Modis users guide](http://clouds.eos.ubc.ca/~phil/courses/atsc301/text/modis_users_guide.pdf) )"
     ]
    },
    {
     "cell_type": "markdown",
     "metadata": {},
     "source": [
      "**here is the scale for all 16 channels**"
     ]
    },
    {
     "cell_type": "code",
     "collapsed": false,
     "input": [
      "scale=h5_file['MODIS_SWATH_Type_L1B']['Data Fields']['EV_1KM_Emissive'].attrs['radiance_scales'][...]\n",
      "print(scale)"
     ],
     "language": "python",
     "metadata": {},
     "outputs": [],
     "prompt_number": ""
    },
    {
     "cell_type": "markdown",
     "metadata": {},
     "source": [
      "**and here is the offset for 16 channels**"
     ]
    },
    {
     "cell_type": "code",
     "collapsed": false,
     "input": [
      "offset=h5_file['MODIS_SWATH_Type_L1B']['Data Fields']['EV_1KM_Emissive'].attrs['radiance_offsets'][...]\n",
      "print(offset)"
     ],
     "language": "python",
     "metadata": {},
     "outputs": [],
     "prompt_number": ""
    },
    {
     "cell_type": "code",
     "collapsed": false,
     "input": [
      "chan31=(chan31 - offset[index31])*scale[index31]"
     ],
     "language": "python",
     "metadata": {},
     "outputs": [],
     "prompt_number": ""
    },
    {
     "cell_type": "markdown",
     "metadata": {},
     "source": [
      "now convert this to brightness temperature"
     ]
    },
    {
     "cell_type": "code",
     "collapsed": false,
     "input": [
      "def planckInvert(wavel,Llambda):\n",
      "    \"\"\"input wavelength in microns and Llambda in W/m^2/micron/sr, output\n",
      "    output brightness temperature in K  (note that we've remove the factor\n",
      "    of pi because we are working with radiances, not fluxes)\n",
      "    \"\"\"\n",
      "    c=2.99792458e+08  #m/s -- speed of light in vacumn\n",
      "    h=6.62606876e-34  #J s  -- Planck's constant\n",
      "    kb=1.3806503e-23  # J/K  -- Boltzman's constant\n",
      "    c1=2.*h*c**2.\n",
      "    c2=h*c/kb\n",
      "\n",
      "    Llambda=Llambda*1.e6  #convert to W/m^2/m/sr\n",
      "    wavel=wavel*1.e-6  #convert wavelength to m\n",
      "    Tbright=c2/(wavel*np.log(c1/(wavel**5.*Llambda) + 1.))\n",
      "    \n",
      "    return Tbright"
     ],
     "language": "python",
     "metadata": {},
     "outputs": [],
     "prompt_number": ""
    },
    {
     "cell_type": "code",
     "collapsed": false,
     "input": [
      "chan31_Tbright=planckInvert(11.02, chan31)"
     ],
     "language": "python",
     "metadata": {},
     "outputs": [],
     "prompt_number": ""
    },
    {
     "cell_type": "code",
     "collapsed": false,
     "input": [
      "%matplotlib inline"
     ],
     "language": "python",
     "metadata": {},
     "outputs": [],
     "prompt_number": ""
    },
    {
     "cell_type": "markdown",
     "metadata": {},
     "source": [
      "**histogram the calibrated radiances and show that they lie between\n",
      "0-10 $W\\,m^{-2}\\,\\mu m^{-1}\\,sr^{-1}$ **"
     ]
    },
    {
     "cell_type": "code",
     "collapsed": false,
     "input": [
      "import matplotlib.pyplot as plt\n",
      "out=plt.hist(chan31_Tbright.flat)"
     ],
     "language": "python",
     "metadata": {},
     "outputs": [],
     "prompt_number": ""
    },
    {
     "cell_type": "markdown",
     "metadata": {},
     "source": [
      "**Read MYD03 Geolocation Fields**"
     ]
    },
    {
     "cell_type": "markdown",
     "metadata": {},
     "source": [
      "note that the longitude and latitude arrays are (406,271) while the actual\n",
      "data are (2030,1354).   These lat/lon arrays show only every fifth row and column.\n",
      "We need to get the full lat/lon arrays from the MYD03 file"
     ]
    },
    {
     "cell_type": "code",
     "collapsed": false,
     "input": [
      "geom_filename=glob.glob('../lib/MYD03*.h5')\n",
      "print(\"found {}\".format(h5_filename))"
     ],
     "language": "python",
     "metadata": {},
     "outputs": [],
     "prompt_number": ""
    },
    {
     "cell_type": "code",
     "collapsed": false,
     "input": [
      "geom_h5=h5py.File(geom_filename[0])"
     ],
     "language": "python",
     "metadata": {},
     "outputs": [],
     "prompt_number": ""
    },
    {
     "cell_type": "code",
     "collapsed": false,
     "input": [
      "h5dump.dumph5(geom_h5)"
     ],
     "language": "python",
     "metadata": {},
     "outputs": [],
     "prompt_number": ""
    },
    {
     "cell_type": "code",
     "collapsed": false,
     "input": [
      "the_long=geom_h5['MODIS_Swath_Type_GEO']['Geolocation Fields']['Longitude'][...]\n",
      "the_lat=geom_h5['MODIS_Swath_Type_GEO']['Geolocation Fields']['Latitude'][...]"
     ],
     "language": "python",
     "metadata": {},
     "outputs": [],
     "prompt_number": ""
    },
    {
     "cell_type": "code",
     "collapsed": false,
     "input": [
      "print(the_long.shape,the_lat.shape)"
     ],
     "language": "python",
     "metadata": {},
     "outputs": [],
     "prompt_number": ""
    },
    {
     "cell_type": "code",
     "collapsed": false,
     "input": [
      "print('===================================================')\n",
      "print('Size of Longitude: {}'.format(the_long.shape))\n",
      "print('Longitude Range: {} ~ {}'.format(np.min(the_long), np.max(the_long)))\n",
      "print('===================================================')\n",
      "print('Size of Latitude: {}'.format(the_lat.shape))\n",
      "print('Latitude Range: {} ~ {}'.format(np.min(the_lat), np.max(the_lat)))"
     ],
     "language": "python",
     "metadata": {},
     "outputs": [],
     "prompt_number": ""
    },
    {
     "cell_type": "code",
     "collapsed": false,
     "input": [
      "def reproj_L1B(raw_data, raw_x, raw_y, xlim, ylim, res):\n",
      "    \n",
      "    '''\n",
      "    =========================================================================================\n",
      "    Reproject MODIS L1B file to a regular grid\n",
      "    -----------------------------------------------------------------------------------------\n",
      "    d_array, x_array, y_array, bin_count = reproj_L1B(raw_data, raw_x, raw_y, xlim, ylim, res)\n",
      "    -----------------------------------------------------------------------------------------\n",
      "    Input:\n",
      "            raw_data: L1B data, N*M 2-D array.\n",
      "            raw_x: longitude info. N*M 2-D array.\n",
      "            raw_y: latitude info. N*M 2-D array.\n",
      "            xlim: range of longitude, a list.\n",
      "            ylim: range of latitude, a list.\n",
      "            res: resolution, single value.\n",
      "    Output:\n",
      "            d_array: L1B reprojected data.\n",
      "            x_array: reprojected longitude.\n",
      "            y_array: reprojected latitude.\n",
      "            bin_count: how many raw data point included in a reprojected grid.\n",
      "    Note:\n",
      "            function do not performs well if \"res\" is larger than the resolution of input data.\n",
      "            size of \"raw_data\", \"raw_x\", \"raw_y\" must agree.\n",
      "    =========================================================================================\n",
      "    '''\n",
      "    \n",
      "    \n",
      "    x_bins=np.arange(xlim[0], xlim[1], res)\n",
      "    y_bins=np.arange(ylim[0], ylim[1], res)\n",
      "#    x_indices=np.digitize(raw_x.flat, x_bins)\n",
      "#    y_indices=np.digitize(raw_y.flat, y_bins)\n",
      "    x_indices=np.searchsorted(x_bins, raw_x.flat, 'right')\n",
      "    y_indices=np.searchsorted(y_bins, raw_y.flat, 'right')\n",
      "        \n",
      "    y_array=np.zeros([len(y_bins), len(x_bins)], dtype=np.float)\n",
      "    x_array=np.zeros([len(y_bins), len(x_bins)], dtype=np.float)\n",
      "    d_array=np.zeros([len(y_bins), len(x_bins)], dtype=np.float)\n",
      "    bin_count=np.zeros([len(y_bins), len(x_bins)], dtype=np.int)\n",
      "    \n",
      "    for n in range(len(y_indices)): #indices\n",
      "        bin_row=y_indices[n]-1 # '-1' is because we call 'right' in np.searchsorted.\n",
      "        bin_col=x_indices[n]-1\n",
      "        bin_count[bin_row, bin_col] += 1\n",
      "        x_array[bin_row, bin_col] += raw_x.flat[n]\n",
      "        y_array[bin_row, bin_col] += raw_y.flat[n]\n",
      "        d_array[bin_row, bin_col] += raw_data.flat[n]\n",
      "                   \n",
      "    for i in range(x_array.shape[0]):\n",
      "        for j in range(x_array.shape[1]):\n",
      "            if bin_count[i, j] > 0:\n",
      "                x_array[i, j]=x_array[i, j]/bin_count[i, j]\n",
      "                y_array[i, j]=y_array[i, j]/bin_count[i, j]\n",
      "                d_array[i, j]=d_array[i, j]/bin_count[i, j] \n",
      "            else:\n",
      "                d_array[i, j]=np.nan\n",
      "                x_array[i, j]=np.nan\n",
      "                y_array[i,j]=np.nan\n",
      "                \n",
      "    return d_array, x_array, y_array, bin_count"
     ],
     "language": "python",
     "metadata": {},
     "outputs": [],
     "prompt_number": ""
    },
    {
     "cell_type": "markdown",
     "metadata": {},
     "source": [
      "**now regrid the radiances and brightness temperatures on a 0.1 x 0.1 degree regular lat/lon grid**"
     ]
    },
    {
     "cell_type": "code",
     "collapsed": false,
     "input": [
      "xlim=[np.min(the_long), np.max(the_long)]\n",
      "ylim=[np.min(the_lat), np.max(the_lat)]\n",
      "chan31_grid, longitude, latitude, bin_count = reproj_L1B(chan31, the_long, the_lat, xlim, ylim, 0.1)\n",
      "tbright_grid,longitude,latitude,bin_count=reproj_L1B(chan31_Tbright, the_long, the_lat, xlim, ylim, 0.1)"
     ],
     "language": "python",
     "metadata": {},
     "outputs": [],
     "prompt_number": ""
    },
    {
     "cell_type": "code",
     "collapsed": false,
     "input": [
      "chan31_grid=np.ma.masked_where(np.isnan(chan31_grid), chan31_grid)\n",
      "bin_count=np.ma.masked_where(np.isnan(bin_count), bin_count)\n",
      "longitude=np.ma.masked_where(np.isnan(longitude), longitude)\n",
      "latitude=np.ma.masked_where(np.isnan(latitude), latitude)\n",
      "longitude.shape"
     ],
     "language": "python",
     "metadata": {},
     "outputs": [],
     "prompt_number": ""
    },
    {
     "cell_type": "markdown",
     "metadata": {},
     "source": [
      "**Plot this gridded data without a map projections**"
     ]
    },
    {
     "cell_type": "code",
     "collapsed": false,
     "input": [
      "fig=plt.figure(figsize=(10.5, 9.5))\n",
      "ax=fig.add_subplot(111)\n",
      "ax.set_xlim(xlim[0], xlim[1])\n",
      "ax.set_ylim(ylim[0], ylim[1])\n",
      "image=ax.pcolormesh(longitude, latitude, chan31_grid)"
     ],
     "language": "python",
     "metadata": {},
     "outputs": [],
     "prompt_number": ""
    },
    {
     "cell_type": "markdown",
     "metadata": {},
     "source": [
      "**Now replot using an lcc (Lambert conformal conic) projection from basemap** at http://matplotlib.org/basemap/users/examples.html"
     ]
    },
    {
     "cell_type": "code",
     "collapsed": false,
     "input": [
      "from mpl_toolkits.basemap import Basemap"
     ],
     "language": "python",
     "metadata": {},
     "outputs": [],
     "prompt_number": ""
    },
    {
     "cell_type": "code",
     "collapsed": false,
     "input": [
      "lcc_values=dict(resolution='l',projection='lcc',\n",
      "                lat_1=20,lat_2=40,lat_0=30,lon_0=135,\n",
      "                llcrnrlon=120,llcrnrlat=20,\n",
      "                urcrnrlon=150,urcrnrlat=42)"
     ],
     "language": "python",
     "metadata": {},
     "outputs": [],
     "prompt_number": ""
    },
    {
     "cell_type": "code",
     "collapsed": false,
     "input": [
      "proj=Basemap(**lcc_values)"
     ],
     "language": "python",
     "metadata": {},
     "outputs": [],
     "prompt_number": ""
    },
    {
     "cell_type": "code",
     "collapsed": false,
     "input": [
      "# create figure, add axes\n",
      "fig=plt.figure(figsize=(12, 12))\n",
      "ax=fig.add_subplot(111)\n",
      "## define parallels and meridians to draw.\n",
      "parallels=np.arange(-90, 90, 5)\n",
      "meridians=np.arange(0, 360, 5)\n",
      "proj.drawparallels(parallels, labels=[1, 0, 0, 0],\\\n",
      "                  fontsize=10, latmax=90)\n",
      "proj.drawmeridians(meridians, labels=[0, 0, 0, 1],\\\n",
      "                  fontsize=10, latmax=90)\n",
      "# draw coast & fill continents\n",
      "#map.fillcontinents(color=[0.25, 0.25, 0.25], lake_color=None) # coral\n",
      "out=proj.drawcoastlines(linewidth=1.5, linestyle='solid', color='k')\n",
      "x, y=proj(longitude, latitude)\n",
      "# contourf the bathmetry\n",
      "CS=proj.pcolor(x, y, chan31_grid, cmap=plt.cm.hot)\n",
      "# colorbar\n",
      "CBar=proj.colorbar(CS, 'right', size='5%', pad='5%')\n",
      "CBar.set_label('Channel 31 radiance ($W\\,m^{-2}\\,\\mu m\\,sr^{-1})$', fontsize=10)\n",
      "CBar.ax.tick_params(axis='y', length=0)"
     ],
     "language": "python",
     "metadata": {},
     "outputs": [],
     "prompt_number": ""
    },
    {
     "cell_type": "markdown",
     "metadata": {},
     "source": [
      "**repeat for brightness temperature**"
     ]
    },
    {
     "cell_type": "code",
     "collapsed": false,
     "input": [
      "# create figure, add axes\n",
      "fig=plt.figure(figsize=(12, 12))\n",
      "ax=fig.add_subplot(111)\n",
      "## define parallels and meridians to draw.\n",
      "parallels=np.arange(-90, 90, 5)\n",
      "meridians=np.arange(0, 360, 5)\n",
      "proj.drawparallels(parallels, labels=[1, 0, 0, 0],\\\n",
      "                  fontsize=10, latmax=90)\n",
      "proj.drawmeridians(meridians, labels=[0, 0, 0, 1],\\\n",
      "                  fontsize=10, latmax=90)\n",
      "# draw coast & fill continents\n",
      "#map.fillcontinents(color=[0.25, 0.25, 0.25], lake_color=None) # coral\n",
      "out=proj.drawcoastlines(linewidth=1.5, linestyle='solid', color='k')\n",
      "x, y=proj(longitude, latitude)\n",
      "# contourf the bathmetry\n",
      "CS=proj.pcolor(x, y, tbright_grid, cmap=plt.cm.hot)\n",
      "# colorbar\n",
      "CBar=proj.colorbar(CS, 'right', size='5%', pad='5%')\n",
      "CBar.set_label('Channel 31 Brightness temperature (K)', fontsize=10)\n",
      "CBar.ax.tick_params(axis='y', length=0)"
     ],
     "language": "python",
     "metadata": {},
     "outputs": [],
     "prompt_number": ""
    },
    {
     "cell_type": "code",
     "collapsed": false,
     "input": [],
     "language": "python",
     "metadata": {},
     "outputs": [],
     "prompt_number": ""
    }
   ],
   "metadata": {}
  }
 ]
}