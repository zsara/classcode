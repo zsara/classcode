{
 "metadata": {
  "name": "",
  "signature": "sha256:65e33e17bde5e0dd27f866ca554fdeb57d12e58290116c9c7b0281d845cceac2"
 },
 "nbformat": 3,
 "nbformat_minor": 0,
 "worksheets": [
  {
   "cells": [
    {
     "cell_type": "heading",
     "level": 2,
     "metadata": {},
     "source": [
      "**Writing Modis data to an hdf5 file**"
     ]
    },
    {
     "cell_type": "markdown",
     "metadata": {},
     "source": [
      "I want to consolidate channel 1, channel 31, the lats and the lons in a smaller file\n",
      "so that I don't have to store all 147 Mbytes of the original L1B file.  In this notebook I'll write out a\n",
      "new h5 file following the h5py quick start tutorial: http://docs.h5py.org/en/latest/quick.html.  To do this, I'll start from\n",
      "[the satelliteI_h5 notebook](http://nbviewer.ipython.org/github/a301-teaching/classcode/blob/master/notebooks/satelliteI_h5.ipynb) and add a file writing section."
     ]
    },
    {
     "cell_type": "markdown",
     "metadata": {},
     "source": [
      "## ***Step 1 read and scale the radiances***"
     ]
    },
    {
     "cell_type": "code",
     "collapsed": false,
     "input": [
      "from __future__ import print_function\n",
      "import os,site\n",
      "import glob\n",
      "import h5py\n",
      "#\n",
      "# add the lib folder to the path assuming it is on the same\n",
      "# level as the notebooks folder\n",
      "#\n",
      "libdir=os.path.abspath('../lib')\n",
      "site.addsitedir(libdir)\n",
      "from modismeta_h5 import parseMeta\n",
      "from h5dump import dumph5"
     ],
     "language": "python",
     "metadata": {},
     "outputs": [],
     "prompt_number": ""
    },
    {
     "cell_type": "markdown",
     "metadata": {},
     "source": [
      "the glob function finds a file using a wildcard to save typing (google: python glob wildcard)"
     ]
    },
    {
     "cell_type": "code",
     "collapsed": false,
     "input": [
      "l1b_filename=glob.glob('../lib/MYD02*.h5')[0]\n",
      "print(\"found l1b file {}\".format(l1b_filename))\n",
      "geom_filename=glob.glob('../lib/MYD03*.h5')[0]\n",
      "print(\"found geom file {}\".format(geom_filename))"
     ],
     "language": "python",
     "metadata": {},
     "outputs": [],
     "prompt_number": ""
    },
    {
     "cell_type": "code",
     "collapsed": false,
     "input": [
      "l1b_file=h5py.File(l1b_filename)\n",
      "geom_file=h5py.File(geom_filename)"
     ],
     "language": "python",
     "metadata": {},
     "outputs": [],
     "prompt_number": ""
    },
    {
     "cell_type": "markdown",
     "metadata": {},
     "source": [
      "**Read the channel 31 radiance data from MODIS_SWATH_Type_L1B/Data Fields/EV_1KM_Emissive**"
     ]
    },
    {
     "cell_type": "code",
     "collapsed": false,
     "input": [
      "print(l1b_file['MODIS_SWATH_Type_L1B']['Data Fields']['Band_1KM_Emissive'].shape)\n",
      "print(l1b_file['MODIS_SWATH_Type_L1B']['Data Fields']['Band_1KM_Emissive'][...])\n",
      "print(l1b_file['MODIS_SWATH_Type_L1B']['Data Fields']['EV_1KM_Emissive'].shape)"
     ],
     "language": "python",
     "metadata": {},
     "outputs": [],
     "prompt_number": ""
    },
    {
     "cell_type": "markdown",
     "metadata": {},
     "source": [
      "**note that channel 31 occurs at index value 10**"
     ]
    },
    {
     "cell_type": "code",
     "collapsed": false,
     "input": [
      "index31=10"
     ],
     "language": "python",
     "metadata": {},
     "outputs": [],
     "prompt_number": ""
    },
    {
     "cell_type": "markdown",
     "metadata": {},
     "source": [
      "**the data is stored as unsigned, 2 byte integers which can hold values from 0 to $2^{16}$ - 1 = 65,535 **"
     ]
    },
    {
     "cell_type": "code",
     "collapsed": false,
     "input": [
      "chan31=l1b_file['MODIS_SWATH_Type_L1B']['Data Fields']['EV_1KM_Emissive'][index31,:,:]\n",
      "print(chan31.shape,chan31.dtype)"
     ],
     "language": "python",
     "metadata": {},
     "outputs": [],
     "prompt_number": ""
    },
    {
     "cell_type": "code",
     "collapsed": false,
     "input": [
      "chan31[:3,:3]"
     ],
     "language": "python",
     "metadata": {},
     "outputs": [],
     "prompt_number": ""
    },
    {
     "cell_type": "markdown",
     "metadata": {},
     "source": [
      "** we need to apply a\n",
      "scale and offset to convert to radiance (the netcdf module did this for us automatically**"
     ]
    },
    {
     "cell_type": "markdown",
     "metadata": {},
     "source": [
      "$Data = (RawData - offset) \\times scale$\n",
      "\n",
      "this information is included in the attributes of each variable.\n",
      "\n",
      "(see page 36 of the [Modis users guide](http://clouds.eos.ubc.ca/~phil/courses/atsc301/text/modis_users_guide.pdf) )"
     ]
    },
    {
     "cell_type": "code",
     "collapsed": false,
     "input": [
      "scale=l1b_file['MODIS_SWATH_Type_L1B']['Data Fields']['EV_1KM_Emissive'].attrs['radiance_scales'][index31]\n",
      "offset=l1b_file['MODIS_SWATH_Type_L1B']['Data Fields']['EV_1KM_Emissive'].attrs['radiance_offsets'][index31]"
     ],
     "language": "python",
     "metadata": {},
     "outputs": [],
     "prompt_number": ""
    },
    {
     "cell_type": "code",
     "collapsed": false,
     "input": [
      "chan31=(chan31 - offset)*scale"
     ],
     "language": "python",
     "metadata": {},
     "outputs": [],
     "prompt_number": ""
    },
    {
     "cell_type": "code",
     "collapsed": false,
     "input": [
      "%matplotlib inline"
     ],
     "language": "python",
     "metadata": {},
     "outputs": [],
     "prompt_number": ""
    },
    {
     "cell_type": "markdown",
     "metadata": {},
     "source": [
      "**histogram the calibrated radiances and show that they lie between\n",
      "0-10 $W\\,m^{-2}\\,\\mu m^{-1}\\,sr^{-1}$ **"
     ]
    },
    {
     "cell_type": "code",
     "collapsed": false,
     "input": [
      "import matplotlib.pyplot as plt\n",
      "out=plt.hist(chan31.flat)"
     ],
     "language": "python",
     "metadata": {},
     "outputs": [],
     "prompt_number": ""
    },
    {
     "cell_type": "markdown",
     "metadata": {},
     "source": [
      "**Now do the same for Channel 1**"
     ]
    },
    {
     "cell_type": "markdown",
     "metadata": {},
     "source": [
      "From [the Modis users guide](http://clouds.eos.ubc.ca/~phil/courses/atsc301/text/modis_users_guide.pdf) (p. 25, table 3.3.2), we know that the 1 km version of channel 1 is called EV_250_Aggr1km_RefSB and is at index 0, so just get that channel, scale and offset for index 0"
     ]
    },
    {
     "cell_type": "code",
     "collapsed": false,
     "input": [
      "reflective=l1b_file['MODIS_SWATH_Type_L1B']['Data Fields']['EV_250_Aggr1km_RefSB'][0,:,:]"
     ],
     "language": "python",
     "metadata": {},
     "outputs": [],
     "prompt_number": ""
    },
    {
     "cell_type": "code",
     "collapsed": false,
     "input": [
      "scale=l1b_file['MODIS_SWATH_Type_L1B']['Data Fields']['EV_250_Aggr1km_RefSB'].attrs['radiance_scales']\n",
      "offset=l1b_file['MODIS_SWATH_Type_L1B']['Data Fields']['EV_250_Aggr1km_RefSB'].attrs['radiance_offsets']\n",
      "chan1=(reflective - offset[0])*scale[0]"
     ],
     "language": "python",
     "metadata": {},
     "outputs": [],
     "prompt_number": ""
    },
    {
     "cell_type": "markdown",
     "metadata": {},
     "source": [
      "not sure why these reflectivities are not scaled properly -- can be greater than 1, but shouldn't be this high?"
     ]
    },
    {
     "cell_type": "code",
     "collapsed": false,
     "input": [
      "out=plt.hist(chan1.flat)"
     ],
     "language": "python",
     "metadata": {},
     "outputs": [],
     "prompt_number": ""
    },
    {
     "cell_type": "markdown",
     "metadata": {},
     "source": [
      "## **Read MODIS_SWATH_Type_L1B/Geolocation Fields/Longitude**"
     ]
    },
    {
     "cell_type": "code",
     "collapsed": false,
     "input": [
      "the_lon=geom_file['MODIS_Swath_Type_GEO']['Geolocation Fields']['Longitude'][...]\n",
      "the_lat=geom_file['MODIS_Swath_Type_GEO']['Geolocation Fields']['Latitude'][...]"
     ],
     "language": "python",
     "metadata": {},
     "outputs": [],
     "prompt_number": ""
    },
    {
     "cell_type": "markdown",
     "metadata": {},
     "source": [
      "# ***Now write these four fields out to a new hdf file***"
     ]
    },
    {
     "cell_type": "code",
     "collapsed": false,
     "input": [
      "out_name=\"swath_output.h5\"\n",
      "try:\n",
      "    f.close()\n",
      "except ValueError:\n",
      "    pass\n",
      "f = h5py.File(out_name, \"w\")\n",
      "dset = f.create_dataset(\"lattitude\", the_lat.shape, dtype=the_lat.dtype)\n",
      "dset[...]=the_lat[...]\n",
      "dset = f.create_dataset(\"longitude\", the_lon.shape, dtype=the_lon.dtype)\n",
      "dset[...]=the_lon[...]\n",
      "dset = f.create_dataset(\"channel1\", chan1.shape, dtype=chan1.dtype)\n",
      "dset[...]=chan1[...]\n",
      "dset = f.create_dataset(\"channel31\", chan31.shape, dtype=chan31.dtype)\n",
      "dset[...]=chan31[...]"
     ],
     "language": "python",
     "metadata": {},
     "outputs": [],
     "prompt_number": ""
    },
    {
     "cell_type": "markdown",
     "metadata": {},
     "source": [
      "## **Read the metadata from the Level1b file**"
     ]
    },
    {
     "cell_type": "code",
     "collapsed": false,
     "input": [
      "metadata=parseMeta(l1b_file)\n",
      "metadata"
     ],
     "language": "python",
     "metadata": {},
     "outputs": [],
     "prompt_number": ""
    },
    {
     "cell_type": "markdown",
     "metadata": {},
     "source": [
      "**Transfer all the metadata to the new hdf5 file as global attributes**"
     ]
    },
    {
     "cell_type": "code",
     "collapsed": false,
     "input": [
      "for the_key in metadata.keys():\n",
      "    f.attrs[the_key]=metadata[the_key]"
     ],
     "language": "python",
     "metadata": {},
     "outputs": [],
     "prompt_number": ""
    },
    {
     "cell_type": "code",
     "collapsed": false,
     "input": [
      "f.close()"
     ],
     "language": "python",
     "metadata": {},
     "outputs": [],
     "prompt_number": ""
    },
    {
     "cell_type": "markdown",
     "metadata": {},
     "source": [
      "**Now reopen the output file and dump it to make sure it has all our stuff**"
     ]
    },
    {
     "cell_type": "code",
     "collapsed": false,
     "input": [
      "f=h5py.File(out_name,'r')\n",
      "dumph5(f)\n",
      "f.close()"
     ],
     "language": "python",
     "metadata": {},
     "outputs": [],
     "prompt_number": ""
    }
   ],
   "metadata": {}
  }
 ]
}